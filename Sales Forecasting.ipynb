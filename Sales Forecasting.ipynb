{
 "cells": [
  {
   "cell_type": "markdown",
   "id": "4405f5b4",
   "metadata": {},
   "source": [
    "# Importing Dependencies"
   ]
  },
  {
   "cell_type": "code",
   "execution_count": 99,
   "id": "c48b15a8",
   "metadata": {},
   "outputs": [],
   "source": [
    "import numpy as np\n",
    "import pandas as pd\n",
    "import matplotlib.pyplot as plt\n",
    "import seaborn as sns\n",
    "from sklearn.preprocessing import LabelEncoder\n",
    "from sklearn import metrics\n",
    "from xgboost import XGBRegressor\n",
    "from sklearn.ensemble import RandomForestRegressor\n",
    "from sklearn.metrics import accuracy_score"
   ]
  },
  {
   "cell_type": "markdown",
   "id": "91ce7e44",
   "metadata": {},
   "source": [
    "# Data Collection and Preprocessing"
   ]
  },
  {
   "cell_type": "code",
   "execution_count": 2,
   "id": "f0555e28",
   "metadata": {},
   "outputs": [],
   "source": [
    "# Loading the data from csv file to pandas data frame\n",
    "\n",
    "features_data = pd.read_csv('features.csv')\n",
    "stores_data = pd.read_csv('stores.csv')\n",
    "test_data = pd.read_csv('test.csv')\n",
    "train_data = pd.read_csv('train.csv')"
   ]
  },
  {
   "cell_type": "code",
   "execution_count": 3,
   "id": "64f0128f",
   "metadata": {},
   "outputs": [
    {
     "data": {
      "text/html": [
       "<div>\n",
       "<style scoped>\n",
       "    .dataframe tbody tr th:only-of-type {\n",
       "        vertical-align: middle;\n",
       "    }\n",
       "\n",
       "    .dataframe tbody tr th {\n",
       "        vertical-align: top;\n",
       "    }\n",
       "\n",
       "    .dataframe thead th {\n",
       "        text-align: right;\n",
       "    }\n",
       "</style>\n",
       "<table border=\"1\" class=\"dataframe\">\n",
       "  <thead>\n",
       "    <tr style=\"text-align: right;\">\n",
       "      <th></th>\n",
       "      <th>Store</th>\n",
       "      <th>Date</th>\n",
       "      <th>Temperature</th>\n",
       "      <th>Fuel_Price</th>\n",
       "      <th>MarkDown1</th>\n",
       "      <th>MarkDown2</th>\n",
       "      <th>MarkDown3</th>\n",
       "      <th>MarkDown4</th>\n",
       "      <th>MarkDown5</th>\n",
       "      <th>CPI</th>\n",
       "      <th>Unemployment</th>\n",
       "      <th>IsHoliday</th>\n",
       "    </tr>\n",
       "  </thead>\n",
       "  <tbody>\n",
       "    <tr>\n",
       "      <th>0</th>\n",
       "      <td>1</td>\n",
       "      <td>2010-02-05</td>\n",
       "      <td>42.31</td>\n",
       "      <td>2.572</td>\n",
       "      <td>NaN</td>\n",
       "      <td>NaN</td>\n",
       "      <td>NaN</td>\n",
       "      <td>NaN</td>\n",
       "      <td>NaN</td>\n",
       "      <td>211.096358</td>\n",
       "      <td>8.106</td>\n",
       "      <td>False</td>\n",
       "    </tr>\n",
       "    <tr>\n",
       "      <th>1</th>\n",
       "      <td>1</td>\n",
       "      <td>2010-02-12</td>\n",
       "      <td>38.51</td>\n",
       "      <td>2.548</td>\n",
       "      <td>NaN</td>\n",
       "      <td>NaN</td>\n",
       "      <td>NaN</td>\n",
       "      <td>NaN</td>\n",
       "      <td>NaN</td>\n",
       "      <td>211.242170</td>\n",
       "      <td>8.106</td>\n",
       "      <td>True</td>\n",
       "    </tr>\n",
       "    <tr>\n",
       "      <th>2</th>\n",
       "      <td>1</td>\n",
       "      <td>2010-02-19</td>\n",
       "      <td>39.93</td>\n",
       "      <td>2.514</td>\n",
       "      <td>NaN</td>\n",
       "      <td>NaN</td>\n",
       "      <td>NaN</td>\n",
       "      <td>NaN</td>\n",
       "      <td>NaN</td>\n",
       "      <td>211.289143</td>\n",
       "      <td>8.106</td>\n",
       "      <td>False</td>\n",
       "    </tr>\n",
       "    <tr>\n",
       "      <th>3</th>\n",
       "      <td>1</td>\n",
       "      <td>2010-02-26</td>\n",
       "      <td>46.63</td>\n",
       "      <td>2.561</td>\n",
       "      <td>NaN</td>\n",
       "      <td>NaN</td>\n",
       "      <td>NaN</td>\n",
       "      <td>NaN</td>\n",
       "      <td>NaN</td>\n",
       "      <td>211.319643</td>\n",
       "      <td>8.106</td>\n",
       "      <td>False</td>\n",
       "    </tr>\n",
       "    <tr>\n",
       "      <th>4</th>\n",
       "      <td>1</td>\n",
       "      <td>2010-03-05</td>\n",
       "      <td>46.50</td>\n",
       "      <td>2.625</td>\n",
       "      <td>NaN</td>\n",
       "      <td>NaN</td>\n",
       "      <td>NaN</td>\n",
       "      <td>NaN</td>\n",
       "      <td>NaN</td>\n",
       "      <td>211.350143</td>\n",
       "      <td>8.106</td>\n",
       "      <td>False</td>\n",
       "    </tr>\n",
       "  </tbody>\n",
       "</table>\n",
       "</div>"
      ],
      "text/plain": [
       "   Store        Date  Temperature  Fuel_Price  MarkDown1  MarkDown2  \\\n",
       "0      1  2010-02-05        42.31       2.572        NaN        NaN   \n",
       "1      1  2010-02-12        38.51       2.548        NaN        NaN   \n",
       "2      1  2010-02-19        39.93       2.514        NaN        NaN   \n",
       "3      1  2010-02-26        46.63       2.561        NaN        NaN   \n",
       "4      1  2010-03-05        46.50       2.625        NaN        NaN   \n",
       "\n",
       "   MarkDown3  MarkDown4  MarkDown5         CPI  Unemployment  IsHoliday  \n",
       "0        NaN        NaN        NaN  211.096358         8.106      False  \n",
       "1        NaN        NaN        NaN  211.242170         8.106       True  \n",
       "2        NaN        NaN        NaN  211.289143         8.106      False  \n",
       "3        NaN        NaN        NaN  211.319643         8.106      False  \n",
       "4        NaN        NaN        NaN  211.350143         8.106      False  "
      ]
     },
     "execution_count": 3,
     "metadata": {},
     "output_type": "execute_result"
    }
   ],
   "source": [
    "features_data.head()"
   ]
  },
  {
   "cell_type": "code",
   "execution_count": 4,
   "id": "9eb01d53",
   "metadata": {},
   "outputs": [
    {
     "data": {
      "text/plain": [
       "(8190, 12)"
      ]
     },
     "execution_count": 4,
     "metadata": {},
     "output_type": "execute_result"
    }
   ],
   "source": [
    "features_data.shape"
   ]
  },
  {
   "cell_type": "code",
   "execution_count": 5,
   "id": "151fa8ca",
   "metadata": {},
   "outputs": [
    {
     "name": "stdout",
     "output_type": "stream",
     "text": [
      "<class 'pandas.core.frame.DataFrame'>\n",
      "RangeIndex: 8190 entries, 0 to 8189\n",
      "Data columns (total 12 columns):\n",
      " #   Column        Non-Null Count  Dtype  \n",
      "---  ------        --------------  -----  \n",
      " 0   Store         8190 non-null   int64  \n",
      " 1   Date          8190 non-null   object \n",
      " 2   Temperature   8190 non-null   float64\n",
      " 3   Fuel_Price    8190 non-null   float64\n",
      " 4   MarkDown1     4032 non-null   float64\n",
      " 5   MarkDown2     2921 non-null   float64\n",
      " 6   MarkDown3     3613 non-null   float64\n",
      " 7   MarkDown4     3464 non-null   float64\n",
      " 8   MarkDown5     4050 non-null   float64\n",
      " 9   CPI           7605 non-null   float64\n",
      " 10  Unemployment  7605 non-null   float64\n",
      " 11  IsHoliday     8190 non-null   bool   \n",
      "dtypes: bool(1), float64(9), int64(1), object(1)\n",
      "memory usage: 712.0+ KB\n"
     ]
    }
   ],
   "source": [
    "features_data.info()"
   ]
  },
  {
   "cell_type": "code",
   "execution_count": 13,
   "id": "2b92190b",
   "metadata": {},
   "outputs": [
    {
     "data": {
      "text/html": [
       "<div>\n",
       "<style scoped>\n",
       "    .dataframe tbody tr th:only-of-type {\n",
       "        vertical-align: middle;\n",
       "    }\n",
       "\n",
       "    .dataframe tbody tr th {\n",
       "        vertical-align: top;\n",
       "    }\n",
       "\n",
       "    .dataframe thead th {\n",
       "        text-align: right;\n",
       "    }\n",
       "</style>\n",
       "<table border=\"1\" class=\"dataframe\">\n",
       "  <thead>\n",
       "    <tr style=\"text-align: right;\">\n",
       "      <th></th>\n",
       "      <th>Store</th>\n",
       "      <th>Type</th>\n",
       "      <th>Size</th>\n",
       "    </tr>\n",
       "  </thead>\n",
       "  <tbody>\n",
       "    <tr>\n",
       "      <th>0</th>\n",
       "      <td>1</td>\n",
       "      <td>A</td>\n",
       "      <td>151315</td>\n",
       "    </tr>\n",
       "    <tr>\n",
       "      <th>1</th>\n",
       "      <td>2</td>\n",
       "      <td>A</td>\n",
       "      <td>202307</td>\n",
       "    </tr>\n",
       "    <tr>\n",
       "      <th>2</th>\n",
       "      <td>3</td>\n",
       "      <td>B</td>\n",
       "      <td>37392</td>\n",
       "    </tr>\n",
       "    <tr>\n",
       "      <th>3</th>\n",
       "      <td>4</td>\n",
       "      <td>A</td>\n",
       "      <td>205863</td>\n",
       "    </tr>\n",
       "    <tr>\n",
       "      <th>4</th>\n",
       "      <td>5</td>\n",
       "      <td>B</td>\n",
       "      <td>34875</td>\n",
       "    </tr>\n",
       "  </tbody>\n",
       "</table>\n",
       "</div>"
      ],
      "text/plain": [
       "   Store Type    Size\n",
       "0      1    A  151315\n",
       "1      2    A  202307\n",
       "2      3    B   37392\n",
       "3      4    A  205863\n",
       "4      5    B   34875"
      ]
     },
     "execution_count": 13,
     "metadata": {},
     "output_type": "execute_result"
    }
   ],
   "source": [
    "stores_data.head()"
   ]
  },
  {
   "cell_type": "code",
   "execution_count": 7,
   "id": "a99dbd38",
   "metadata": {},
   "outputs": [
    {
     "data": {
      "text/plain": [
       "(45, 3)"
      ]
     },
     "execution_count": 7,
     "metadata": {},
     "output_type": "execute_result"
    }
   ],
   "source": [
    "stores_data.shape"
   ]
  },
  {
   "cell_type": "code",
   "execution_count": 28,
   "id": "cb523438",
   "metadata": {},
   "outputs": [
    {
     "data": {
      "text/html": [
       "<div>\n",
       "<style scoped>\n",
       "    .dataframe tbody tr th:only-of-type {\n",
       "        vertical-align: middle;\n",
       "    }\n",
       "\n",
       "    .dataframe tbody tr th {\n",
       "        vertical-align: top;\n",
       "    }\n",
       "\n",
       "    .dataframe thead th {\n",
       "        text-align: right;\n",
       "    }\n",
       "</style>\n",
       "<table border=\"1\" class=\"dataframe\">\n",
       "  <thead>\n",
       "    <tr style=\"text-align: right;\">\n",
       "      <th></th>\n",
       "      <th>Store</th>\n",
       "      <th>Date</th>\n",
       "      <th>Temperature</th>\n",
       "      <th>Fuel_Price</th>\n",
       "      <th>MarkDown1</th>\n",
       "      <th>MarkDown2</th>\n",
       "      <th>MarkDown3</th>\n",
       "      <th>MarkDown4</th>\n",
       "      <th>MarkDown5</th>\n",
       "      <th>CPI</th>\n",
       "      <th>Unemployment</th>\n",
       "      <th>IsHoliday</th>\n",
       "    </tr>\n",
       "  </thead>\n",
       "  <tbody>\n",
       "    <tr>\n",
       "      <th>0</th>\n",
       "      <td>1</td>\n",
       "      <td>2010-02-05</td>\n",
       "      <td>42.31</td>\n",
       "      <td>2.572</td>\n",
       "      <td>NaN</td>\n",
       "      <td>NaN</td>\n",
       "      <td>NaN</td>\n",
       "      <td>NaN</td>\n",
       "      <td>NaN</td>\n",
       "      <td>211.096358</td>\n",
       "      <td>8.106</td>\n",
       "      <td>False</td>\n",
       "    </tr>\n",
       "    <tr>\n",
       "      <th>1</th>\n",
       "      <td>1</td>\n",
       "      <td>2010-02-12</td>\n",
       "      <td>38.51</td>\n",
       "      <td>2.548</td>\n",
       "      <td>NaN</td>\n",
       "      <td>NaN</td>\n",
       "      <td>NaN</td>\n",
       "      <td>NaN</td>\n",
       "      <td>NaN</td>\n",
       "      <td>211.242170</td>\n",
       "      <td>8.106</td>\n",
       "      <td>True</td>\n",
       "    </tr>\n",
       "    <tr>\n",
       "      <th>2</th>\n",
       "      <td>1</td>\n",
       "      <td>2010-02-19</td>\n",
       "      <td>39.93</td>\n",
       "      <td>2.514</td>\n",
       "      <td>NaN</td>\n",
       "      <td>NaN</td>\n",
       "      <td>NaN</td>\n",
       "      <td>NaN</td>\n",
       "      <td>NaN</td>\n",
       "      <td>211.289143</td>\n",
       "      <td>8.106</td>\n",
       "      <td>False</td>\n",
       "    </tr>\n",
       "    <tr>\n",
       "      <th>3</th>\n",
       "      <td>1</td>\n",
       "      <td>2010-02-26</td>\n",
       "      <td>46.63</td>\n",
       "      <td>2.561</td>\n",
       "      <td>NaN</td>\n",
       "      <td>NaN</td>\n",
       "      <td>NaN</td>\n",
       "      <td>NaN</td>\n",
       "      <td>NaN</td>\n",
       "      <td>211.319643</td>\n",
       "      <td>8.106</td>\n",
       "      <td>False</td>\n",
       "    </tr>\n",
       "    <tr>\n",
       "      <th>4</th>\n",
       "      <td>1</td>\n",
       "      <td>2010-03-05</td>\n",
       "      <td>46.50</td>\n",
       "      <td>2.625</td>\n",
       "      <td>NaN</td>\n",
       "      <td>NaN</td>\n",
       "      <td>NaN</td>\n",
       "      <td>NaN</td>\n",
       "      <td>NaN</td>\n",
       "      <td>211.350143</td>\n",
       "      <td>8.106</td>\n",
       "      <td>False</td>\n",
       "    </tr>\n",
       "  </tbody>\n",
       "</table>\n",
       "</div>"
      ],
      "text/plain": [
       "   Store        Date  Temperature  Fuel_Price  MarkDown1  MarkDown2  \\\n",
       "0      1  2010-02-05        42.31       2.572        NaN        NaN   \n",
       "1      1  2010-02-12        38.51       2.548        NaN        NaN   \n",
       "2      1  2010-02-19        39.93       2.514        NaN        NaN   \n",
       "3      1  2010-02-26        46.63       2.561        NaN        NaN   \n",
       "4      1  2010-03-05        46.50       2.625        NaN        NaN   \n",
       "\n",
       "   MarkDown3  MarkDown4  MarkDown5         CPI  Unemployment  IsHoliday  \n",
       "0        NaN        NaN        NaN  211.096358         8.106      False  \n",
       "1        NaN        NaN        NaN  211.242170         8.106       True  \n",
       "2        NaN        NaN        NaN  211.289143         8.106      False  \n",
       "3        NaN        NaN        NaN  211.319643         8.106      False  \n",
       "4        NaN        NaN        NaN  211.350143         8.106      False  "
      ]
     },
     "execution_count": 28,
     "metadata": {},
     "output_type": "execute_result"
    }
   ],
   "source": [
    "features_data.head()"
   ]
  },
  {
   "cell_type": "code",
   "execution_count": 8,
   "id": "01575cb4",
   "metadata": {},
   "outputs": [
    {
     "name": "stdout",
     "output_type": "stream",
     "text": [
      "<class 'pandas.core.frame.DataFrame'>\n",
      "RangeIndex: 8190 entries, 0 to 8189\n",
      "Data columns (total 12 columns):\n",
      " #   Column        Non-Null Count  Dtype  \n",
      "---  ------        --------------  -----  \n",
      " 0   Store         8190 non-null   int64  \n",
      " 1   Date          8190 non-null   object \n",
      " 2   Temperature   8190 non-null   float64\n",
      " 3   Fuel_Price    8190 non-null   float64\n",
      " 4   MarkDown1     4032 non-null   float64\n",
      " 5   MarkDown2     2921 non-null   float64\n",
      " 6   MarkDown3     3613 non-null   float64\n",
      " 7   MarkDown4     3464 non-null   float64\n",
      " 8   MarkDown5     4050 non-null   float64\n",
      " 9   CPI           7605 non-null   float64\n",
      " 10  Unemployment  7605 non-null   float64\n",
      " 11  IsHoliday     8190 non-null   bool   \n",
      "dtypes: bool(1), float64(9), int64(1), object(1)\n",
      "memory usage: 712.0+ KB\n"
     ]
    }
   ],
   "source": [
    "features_data.info()"
   ]
  },
  {
   "cell_type": "code",
   "execution_count": 29,
   "id": "bb947cfb",
   "metadata": {},
   "outputs": [
    {
     "data": {
      "text/html": [
       "<div>\n",
       "<style scoped>\n",
       "    .dataframe tbody tr th:only-of-type {\n",
       "        vertical-align: middle;\n",
       "    }\n",
       "\n",
       "    .dataframe tbody tr th {\n",
       "        vertical-align: top;\n",
       "    }\n",
       "\n",
       "    .dataframe thead th {\n",
       "        text-align: right;\n",
       "    }\n",
       "</style>\n",
       "<table border=\"1\" class=\"dataframe\">\n",
       "  <thead>\n",
       "    <tr style=\"text-align: right;\">\n",
       "      <th></th>\n",
       "      <th>Store</th>\n",
       "      <th>Dept</th>\n",
       "      <th>Date</th>\n",
       "      <th>IsHoliday</th>\n",
       "    </tr>\n",
       "  </thead>\n",
       "  <tbody>\n",
       "    <tr>\n",
       "      <th>0</th>\n",
       "      <td>1</td>\n",
       "      <td>1</td>\n",
       "      <td>2012-11-02</td>\n",
       "      <td>False</td>\n",
       "    </tr>\n",
       "    <tr>\n",
       "      <th>1</th>\n",
       "      <td>1</td>\n",
       "      <td>1</td>\n",
       "      <td>2012-11-09</td>\n",
       "      <td>False</td>\n",
       "    </tr>\n",
       "    <tr>\n",
       "      <th>2</th>\n",
       "      <td>1</td>\n",
       "      <td>1</td>\n",
       "      <td>2012-11-16</td>\n",
       "      <td>False</td>\n",
       "    </tr>\n",
       "    <tr>\n",
       "      <th>3</th>\n",
       "      <td>1</td>\n",
       "      <td>1</td>\n",
       "      <td>2012-11-23</td>\n",
       "      <td>True</td>\n",
       "    </tr>\n",
       "    <tr>\n",
       "      <th>4</th>\n",
       "      <td>1</td>\n",
       "      <td>1</td>\n",
       "      <td>2012-11-30</td>\n",
       "      <td>False</td>\n",
       "    </tr>\n",
       "  </tbody>\n",
       "</table>\n",
       "</div>"
      ],
      "text/plain": [
       "   Store  Dept        Date  IsHoliday\n",
       "0      1     1  2012-11-02      False\n",
       "1      1     1  2012-11-09      False\n",
       "2      1     1  2012-11-16      False\n",
       "3      1     1  2012-11-23       True\n",
       "4      1     1  2012-11-30      False"
      ]
     },
     "execution_count": 29,
     "metadata": {},
     "output_type": "execute_result"
    }
   ],
   "source": [
    "test_data.head()"
   ]
  },
  {
   "cell_type": "code",
   "execution_count": 9,
   "id": "c9b5e42e",
   "metadata": {},
   "outputs": [
    {
     "data": {
      "text/plain": [
       "(115064, 4)"
      ]
     },
     "execution_count": 9,
     "metadata": {},
     "output_type": "execute_result"
    }
   ],
   "source": [
    "test_data.shape"
   ]
  },
  {
   "cell_type": "code",
   "execution_count": 10,
   "id": "876ad5d5",
   "metadata": {},
   "outputs": [
    {
     "name": "stdout",
     "output_type": "stream",
     "text": [
      "<class 'pandas.core.frame.DataFrame'>\n",
      "RangeIndex: 115064 entries, 0 to 115063\n",
      "Data columns (total 4 columns):\n",
      " #   Column     Non-Null Count   Dtype \n",
      "---  ------     --------------   ----- \n",
      " 0   Store      115064 non-null  int64 \n",
      " 1   Dept       115064 non-null  int64 \n",
      " 2   Date       115064 non-null  object\n",
      " 3   IsHoliday  115064 non-null  bool  \n",
      "dtypes: bool(1), int64(2), object(1)\n",
      "memory usage: 2.7+ MB\n"
     ]
    }
   ],
   "source": [
    "test_data.info()"
   ]
  },
  {
   "cell_type": "code",
   "execution_count": 30,
   "id": "13fd67dd",
   "metadata": {},
   "outputs": [
    {
     "data": {
      "text/html": [
       "<div>\n",
       "<style scoped>\n",
       "    .dataframe tbody tr th:only-of-type {\n",
       "        vertical-align: middle;\n",
       "    }\n",
       "\n",
       "    .dataframe tbody tr th {\n",
       "        vertical-align: top;\n",
       "    }\n",
       "\n",
       "    .dataframe thead th {\n",
       "        text-align: right;\n",
       "    }\n",
       "</style>\n",
       "<table border=\"1\" class=\"dataframe\">\n",
       "  <thead>\n",
       "    <tr style=\"text-align: right;\">\n",
       "      <th></th>\n",
       "      <th>Store</th>\n",
       "      <th>Dept</th>\n",
       "      <th>Date</th>\n",
       "      <th>Weekly_Sales</th>\n",
       "      <th>IsHoliday</th>\n",
       "    </tr>\n",
       "  </thead>\n",
       "  <tbody>\n",
       "    <tr>\n",
       "      <th>0</th>\n",
       "      <td>1</td>\n",
       "      <td>1</td>\n",
       "      <td>2010-02-05</td>\n",
       "      <td>24924.50</td>\n",
       "      <td>False</td>\n",
       "    </tr>\n",
       "    <tr>\n",
       "      <th>1</th>\n",
       "      <td>1</td>\n",
       "      <td>1</td>\n",
       "      <td>2010-02-12</td>\n",
       "      <td>46039.49</td>\n",
       "      <td>True</td>\n",
       "    </tr>\n",
       "    <tr>\n",
       "      <th>2</th>\n",
       "      <td>1</td>\n",
       "      <td>1</td>\n",
       "      <td>2010-02-19</td>\n",
       "      <td>41595.55</td>\n",
       "      <td>False</td>\n",
       "    </tr>\n",
       "    <tr>\n",
       "      <th>3</th>\n",
       "      <td>1</td>\n",
       "      <td>1</td>\n",
       "      <td>2010-02-26</td>\n",
       "      <td>19403.54</td>\n",
       "      <td>False</td>\n",
       "    </tr>\n",
       "    <tr>\n",
       "      <th>4</th>\n",
       "      <td>1</td>\n",
       "      <td>1</td>\n",
       "      <td>2010-03-05</td>\n",
       "      <td>21827.90</td>\n",
       "      <td>False</td>\n",
       "    </tr>\n",
       "  </tbody>\n",
       "</table>\n",
       "</div>"
      ],
      "text/plain": [
       "   Store  Dept        Date  Weekly_Sales  IsHoliday\n",
       "0      1     1  2010-02-05      24924.50      False\n",
       "1      1     1  2010-02-12      46039.49       True\n",
       "2      1     1  2010-02-19      41595.55      False\n",
       "3      1     1  2010-02-26      19403.54      False\n",
       "4      1     1  2010-03-05      21827.90      False"
      ]
     },
     "execution_count": 30,
     "metadata": {},
     "output_type": "execute_result"
    }
   ],
   "source": [
    "train_data.head()"
   ]
  },
  {
   "cell_type": "code",
   "execution_count": 11,
   "id": "d548cf4d",
   "metadata": {},
   "outputs": [
    {
     "data": {
      "text/plain": [
       "(421570, 5)"
      ]
     },
     "execution_count": 11,
     "metadata": {},
     "output_type": "execute_result"
    }
   ],
   "source": [
    "train_data.shape"
   ]
  },
  {
   "cell_type": "code",
   "execution_count": 12,
   "id": "f3c2a181",
   "metadata": {},
   "outputs": [
    {
     "name": "stdout",
     "output_type": "stream",
     "text": [
      "<class 'pandas.core.frame.DataFrame'>\n",
      "RangeIndex: 421570 entries, 0 to 421569\n",
      "Data columns (total 5 columns):\n",
      " #   Column        Non-Null Count   Dtype  \n",
      "---  ------        --------------   -----  \n",
      " 0   Store         421570 non-null  int64  \n",
      " 1   Dept          421570 non-null  int64  \n",
      " 2   Date          421570 non-null  object \n",
      " 3   Weekly_Sales  421570 non-null  float64\n",
      " 4   IsHoliday     421570 non-null  bool   \n",
      "dtypes: bool(1), float64(1), int64(2), object(1)\n",
      "memory usage: 13.3+ MB\n"
     ]
    }
   ],
   "source": [
    "train_data.info()"
   ]
  },
  {
   "cell_type": "markdown",
   "id": "ed0befa5",
   "metadata": {},
   "source": [
    "# Exploratory Data Analysis"
   ]
  },
  {
   "cell_type": "code",
   "execution_count": 36,
   "id": "c063dc6d",
   "metadata": {},
   "outputs": [
    {
     "data": {
      "image/png": "[encoded data removed]",
      "text/plain": [
       "<Figure size 432x288 with 1 Axes>"
      ]
     },
     "metadata": {},
     "output_type": "display_data"
    }
   ],
   "source": [
    "#pie-chart for the visual representation of store types\n",
    "#https://pythonspot.com/matplotlib-pie-chart/\n",
    "# Data to plot\n",
    "labels = 'store A','store B','store C'\n",
    "sizes = [(22/(45))*100,(17/(45))*100,(6/(45))*100]\n",
    "colors = ['gold', 'yellowgreen', 'lightcoral']\n",
    "explode = (0.1, 0, 0)  # explode 1st slice\n",
    "\n",
    "# Plot\n",
    "plt.pie(sizes, explode=explode, labels=labels, colors=colors,\n",
    "autopct='%1.1f%%', shadow=True, startangle=140)\n",
    "plt.legend(labels, loc=\"best\")\n",
    "plt.axis('equal')\n",
    "plt.show()"
   ]
  },
  {
   "cell_type": "markdown",
   "id": "f5b9ad96",
   "metadata": {},
   "source": [
    "# Boxplot for sizes of types of stores"
   ]
  },
  {
   "cell_type": "code",
   "execution_count": 41,
   "id": "8128d1bd",
   "metadata": {},
   "outputs": [
    {
     "data": {
      "image/png": "[encoded data removed]",
      "text/plain": [
       "<Figure size 576x432 with 1 Axes>"
      ]
     },
     "metadata": {
      "needs_background": "light"
     },
     "output_type": "display_data"
    }
   ],
   "source": [
    "# boxplot for sizes of types of stores\n",
    "store_type = pd.concat([stores_data['Type'], stores_data['Size']], axis=1)\n",
    "f, ax = plt.subplots(figsize=(8, 6))\n",
    "fig = sns.boxplot(x='Type', y='Size', data=store_type)"
   ]
  },
  {
   "cell_type": "markdown",
   "id": "b565fad8",
   "metadata": {},
   "source": [
    "Pair Plot"
   ]
  },
  {
   "cell_type": "code",
   "execution_count": 43,
   "id": "c97b465f",
   "metadata": {},
   "outputs": [
    {
     "data": {
      "text/plain": [
       "<seaborn.axisgrid.PairGrid at 0x225a9c1a2e0>"
      ]
     },
     "execution_count": 43,
     "metadata": {},
     "output_type": "execute_result"
    },
    {
     "data": {
      "image/png": "[encoded data removed]",
      "text/plain": [
       "<Figure size 540x540 with 12 Axes>"
      ]
     },
     "metadata": {
      "needs_background": "light"
     },
     "output_type": "display_data"
    }
   ],
   "source": [
    "sns.pairplot(stores_data, vars=['Store','Type','Size'])"
   ]
  },
  {
   "cell_type": "raw",
   "id": "7cdc2689",
   "metadata": {},
   "source": [
    "Observations\n",
    "\n",
    "1) There are 45 stores in total.\n",
    "2) There are a total of 3 types of stores: Type A, B, and C.\n",
    "3) By boxplot and piechart, we can say that type A store is the largest store and C is the smallest\n",
    "4) There is no overlapped area in size among A, B, and C"
   ]
  },
  {
   "cell_type": "markdown",
   "id": "51ff69aa",
   "metadata": {},
   "source": [
    "# Check holidays sales frequencies"
   ]
  },
  {
   "cell_type": "code",
   "execution_count": 44,
   "id": "46c0bc5b",
   "metadata": {},
   "outputs": [
    {
     "data": {
      "image/png": "[encoded data removed]",
      "text/plain": [
       "<Figure size 1440x360 with 2 Axes>"
      ]
     },
     "metadata": {},
     "output_type": "display_data"
    }
   ],
   "source": [
    "plt.style.use('ggplot')\n",
    "fig, axes = plt.subplots(1,2, figsize = (20,5))\n",
    "fig.subplots_adjust(wspace=1, hspace=1)\n",
    "fig.subplots_adjust(left=0.1, right=0.9, bottom=0.1, top=0.9)\n",
    "\n",
    "sales_holiday=train_data[['IsHoliday','Weekly_Sales']]\n",
    "target=[sales_holiday['Weekly_Sales'].loc[sales_holiday['IsHoliday']==True],sales_holiday['Weekly_Sales'].loc[sales_holiday['IsHoliday']==False]]\n",
    "labels=['Holiday','Not Holiday']\n",
    "\n",
    "#median\n",
    "medianprop={'color':'#2196F3',\n",
    "            'linewidth': 2,\n",
    "            'linestyle':'-'}\n",
    "# outliers\n",
    "\n",
    "flierprop={'color' : '#EC407A',\n",
    "          'marker' : 'o',\n",
    "          'markerfacecolor': '#2196F3',\n",
    "          'markeredgecolor':'white',\n",
    "          'markersize' : 3,\n",
    "          'linestyle' : 'None',\n",
    "          'linewidth' : 0.1}\n",
    "\n",
    "\n",
    "\n",
    "axes[0].boxplot(target,labels=labels, patch_artist = 'Patch',\n",
    "                  showmeans=True,\n",
    "                  flierprops=flierprop,\n",
    "                  medianprops=medianprop)\n",
    "\n",
    "\n",
    "axes[1].boxplot(target,labels=labels, patch_artist = 'Patch',\n",
    "                  showmeans=True,\n",
    "                  flierprops=flierprop,\n",
    "                  medianprops=medianprop)\n",
    "\n",
    "axes[1].set_ylim(-6000,80000)\n",
    "\n",
    "plt.show()"
   ]
  },
  {
   "cell_type": "markdown",
   "id": "121ff37a",
   "metadata": {},
   "source": [
    "# Understand Department Frequency"
   ]
  },
  {
   "cell_type": "code",
   "execution_count": 47,
   "id": "a6f96eaf",
   "metadata": {},
   "outputs": [
    {
     "data": {
      "text/plain": [
       "<AxesSubplot:xlabel='Dept'>"
      ]
     },
     "execution_count": 47,
     "metadata": {},
     "output_type": "execute_result"
    },
    {
     "data": {
      "image/png": "[encoded data removed]",
      "text/plain": [
       "<Figure size 432x288 with 1 Axes>"
      ]
     },
     "metadata": {},
     "output_type": "display_data"
    }
   ],
   "source": [
    "train_data.plot(kind='line', x='Dept', y='Weekly_Sales', alpha=1, fig=(4,5))"
   ]
  },
  {
   "cell_type": "raw",
   "id": "ea6d4201",
   "metadata": {},
   "source": [
    "Observations:\n",
    "\n",
    "1) Sales on holiday is a little bit more than sales in not-holiday\n",
    "2) From this plot, we notice the Department with the highest sales lies between Dept 60 and 80\n",
    "\n",
    "Total we have 421570 values for training and 115064 for testing. But we will work only on 421570 data as we have labels to test the performance and accuracy of models."
   ]
  },
  {
   "cell_type": "markdown",
   "id": "eab94a72",
   "metadata": {},
   "source": [
    "# Feature Engineering:\n",
    "\n",
    "As we have dates in our dataset, we can build some beautiful DateTime features using pandas.\n"
   ]
  },
  {
   "cell_type": "code",
   "execution_count": 49,
   "id": "e34baf64",
   "metadata": {},
   "outputs": [],
   "source": [
    "train_data['Date'] = pd.to_datetime(train_data['Date'])\n",
    "test_data['Date'] = pd.to_datetime(test_data['Date'])\n",
    "\n",
    "#The week ordinal of the year.\n",
    "train_data['Week'] = train_data['Date'].dt.isocalendar().week\n",
    "test_data['Week'] = test_data['Date'].dt.isocalendar().week\n",
    "\n",
    "#The day of the week with Monday=0, Sunday=6.\n",
    "train_data['Day_of_week'] = train_data['Date'].dt.dayofweek\n",
    "test_data['Day_of_week'] = test_data['Date'].dt.dayofweek\n",
    "\n",
    "#The month as January=1, December=12.\n",
    "train_data['Month'] = train_data['Date'].dt.month \n",
    "test_data['Month'] = test_data['Date'].dt.month \n",
    "\n",
    "#The year of the datetime.\n",
    "train_data['Year'] = train_data['Date'].dt.year\n",
    "test_data['Year'] = test_data['Date'].dt.year\n",
    "\n",
    "#The days of the datetime.\n",
    "train_data['Day'] = train_data['Date'].dt.day \n",
    "test_data['Day'] = test_data['Date'].dt.day"
   ]
  },
  {
   "cell_type": "markdown",
   "id": "999fd62e",
   "metadata": {},
   "source": [
    "# Merge train, test and the features dataset"
   ]
  },
  {
   "cell_type": "code",
   "execution_count": 53,
   "id": "4ed072a5",
   "metadata": {},
   "outputs": [],
   "source": [
    "features_data['Date'] = pd.to_datetime(features_data['Date'])\n",
    "\n",
    "#merge the features\n",
    "train_with_feature = pd.merge_asof(train_data, features_data, on='Store',by='Date')\n",
    "test_with_feature = pd.merge_asof(test_data, features_data, on='Store',by='Date')"
   ]
  },
  {
   "cell_type": "markdown",
   "id": "3fc26e31",
   "metadata": {},
   "source": [
    "# We can take mean of Temp and Unemployment as our features\n"
   ]
  },
  {
   "cell_type": "code",
   "execution_count": 54,
   "id": "4bbab869",
   "metadata": {},
   "outputs": [],
   "source": [
    "#let's take mean of Temp and Unemployment\n",
    "train_with_feature['Temp_mean'] = train_with_feature['Temperature'].mean()\n",
    "train_with_feature['Unemployment_mean'] = train_with_feature['Unemployment'].mean()\n",
    "#test data\n",
    "test_with_feature['Temp_mean'] = test_with_feature['Temperature'].mean()\n",
    "test_with_feature['Unemployment_mean'] = test_with_feature['Unemployment'].mean()"
   ]
  },
  {
   "cell_type": "code",
   "execution_count": 55,
   "id": "c2f45f1a",
   "metadata": {},
   "outputs": [
    {
     "data": {
      "text/html": [
       "<div>\n",
       "<style scoped>\n",
       "    .dataframe tbody tr th:only-of-type {\n",
       "        vertical-align: middle;\n",
       "    }\n",
       "\n",
       "    .dataframe tbody tr th {\n",
       "        vertical-align: top;\n",
       "    }\n",
       "\n",
       "    .dataframe thead th {\n",
       "        text-align: right;\n",
       "    }\n",
       "</style>\n",
       "<table border=\"1\" class=\"dataframe\">\n",
       "  <thead>\n",
       "    <tr style=\"text-align: right;\">\n",
       "      <th></th>\n",
       "      <th>Store</th>\n",
       "      <th>Dept</th>\n",
       "      <th>Date</th>\n",
       "      <th>Weekly_Sales</th>\n",
       "      <th>IsHoliday_x</th>\n",
       "      <th>Week</th>\n",
       "      <th>Day_of_week</th>\n",
       "      <th>Month</th>\n",
       "      <th>Year</th>\n",
       "      <th>Day</th>\n",
       "      <th>...</th>\n",
       "      <th>MarkDown1</th>\n",
       "      <th>MarkDown2</th>\n",
       "      <th>MarkDown3</th>\n",
       "      <th>MarkDown4</th>\n",
       "      <th>MarkDown5</th>\n",
       "      <th>CPI</th>\n",
       "      <th>Unemployment</th>\n",
       "      <th>IsHoliday_y</th>\n",
       "      <th>Temp_mean</th>\n",
       "      <th>Unemployment_mean</th>\n",
       "    </tr>\n",
       "  </thead>\n",
       "  <tbody>\n",
       "    <tr>\n",
       "      <th>0</th>\n",
       "      <td>1</td>\n",
       "      <td>1</td>\n",
       "      <td>2010-02-05</td>\n",
       "      <td>24924.50</td>\n",
       "      <td>False</td>\n",
       "      <td>5</td>\n",
       "      <td>4</td>\n",
       "      <td>2</td>\n",
       "      <td>2010</td>\n",
       "      <td>5</td>\n",
       "      <td>...</td>\n",
       "      <td>NaN</td>\n",
       "      <td>NaN</td>\n",
       "      <td>NaN</td>\n",
       "      <td>NaN</td>\n",
       "      <td>NaN</td>\n",
       "      <td>211.096358</td>\n",
       "      <td>8.106</td>\n",
       "      <td>False</td>\n",
       "      <td>60.090059</td>\n",
       "      <td>7.960289</td>\n",
       "    </tr>\n",
       "    <tr>\n",
       "      <th>1</th>\n",
       "      <td>1</td>\n",
       "      <td>1</td>\n",
       "      <td>2010-02-12</td>\n",
       "      <td>46039.49</td>\n",
       "      <td>True</td>\n",
       "      <td>6</td>\n",
       "      <td>4</td>\n",
       "      <td>2</td>\n",
       "      <td>2010</td>\n",
       "      <td>12</td>\n",
       "      <td>...</td>\n",
       "      <td>NaN</td>\n",
       "      <td>NaN</td>\n",
       "      <td>NaN</td>\n",
       "      <td>NaN</td>\n",
       "      <td>NaN</td>\n",
       "      <td>211.242170</td>\n",
       "      <td>8.106</td>\n",
       "      <td>True</td>\n",
       "      <td>60.090059</td>\n",
       "      <td>7.960289</td>\n",
       "    </tr>\n",
       "    <tr>\n",
       "      <th>2</th>\n",
       "      <td>1</td>\n",
       "      <td>1</td>\n",
       "      <td>2010-02-19</td>\n",
       "      <td>41595.55</td>\n",
       "      <td>False</td>\n",
       "      <td>7</td>\n",
       "      <td>4</td>\n",
       "      <td>2</td>\n",
       "      <td>2010</td>\n",
       "      <td>19</td>\n",
       "      <td>...</td>\n",
       "      <td>NaN</td>\n",
       "      <td>NaN</td>\n",
       "      <td>NaN</td>\n",
       "      <td>NaN</td>\n",
       "      <td>NaN</td>\n",
       "      <td>211.289143</td>\n",
       "      <td>8.106</td>\n",
       "      <td>False</td>\n",
       "      <td>60.090059</td>\n",
       "      <td>7.960289</td>\n",
       "    </tr>\n",
       "    <tr>\n",
       "      <th>3</th>\n",
       "      <td>1</td>\n",
       "      <td>1</td>\n",
       "      <td>2010-02-26</td>\n",
       "      <td>19403.54</td>\n",
       "      <td>False</td>\n",
       "      <td>8</td>\n",
       "      <td>4</td>\n",
       "      <td>2</td>\n",
       "      <td>2010</td>\n",
       "      <td>26</td>\n",
       "      <td>...</td>\n",
       "      <td>NaN</td>\n",
       "      <td>NaN</td>\n",
       "      <td>NaN</td>\n",
       "      <td>NaN</td>\n",
       "      <td>NaN</td>\n",
       "      <td>211.319643</td>\n",
       "      <td>8.106</td>\n",
       "      <td>False</td>\n",
       "      <td>60.090059</td>\n",
       "      <td>7.960289</td>\n",
       "    </tr>\n",
       "    <tr>\n",
       "      <th>4</th>\n",
       "      <td>1</td>\n",
       "      <td>1</td>\n",
       "      <td>2010-03-05</td>\n",
       "      <td>21827.90</td>\n",
       "      <td>False</td>\n",
       "      <td>9</td>\n",
       "      <td>4</td>\n",
       "      <td>3</td>\n",
       "      <td>2010</td>\n",
       "      <td>5</td>\n",
       "      <td>...</td>\n",
       "      <td>NaN</td>\n",
       "      <td>NaN</td>\n",
       "      <td>NaN</td>\n",
       "      <td>NaN</td>\n",
       "      <td>NaN</td>\n",
       "      <td>211.350143</td>\n",
       "      <td>8.106</td>\n",
       "      <td>False</td>\n",
       "      <td>60.090059</td>\n",
       "      <td>7.960289</td>\n",
       "    </tr>\n",
       "  </tbody>\n",
       "</table>\n",
       "<p>5 rows × 22 columns</p>\n",
       "</div>"
      ],
      "text/plain": [
       "   Store  Dept       Date  Weekly_Sales  IsHoliday_x  Week  Day_of_week  \\\n",
       "0      1     1 2010-02-05      24924.50        False     5            4   \n",
       "1      1     1 2010-02-12      46039.49         True     6            4   \n",
       "2      1     1 2010-02-19      41595.55        False     7            4   \n",
       "3      1     1 2010-02-26      19403.54        False     8            4   \n",
       "4      1     1 2010-03-05      21827.90        False     9            4   \n",
       "\n",
       "   Month  Year  Day  ...  MarkDown1  MarkDown2  MarkDown3  MarkDown4  \\\n",
       "0      2  2010    5  ...        NaN        NaN        NaN        NaN   \n",
       "1      2  2010   12  ...        NaN        NaN        NaN        NaN   \n",
       "2      2  2010   19  ...        NaN        NaN        NaN        NaN   \n",
       "3      2  2010   26  ...        NaN        NaN        NaN        NaN   \n",
       "4      3  2010    5  ...        NaN        NaN        NaN        NaN   \n",
       "\n",
       "   MarkDown5         CPI  Unemployment  IsHoliday_y  Temp_mean  \\\n",
       "0        NaN  211.096358         8.106        False  60.090059   \n",
       "1        NaN  211.242170         8.106         True  60.090059   \n",
       "2        NaN  211.289143         8.106        False  60.090059   \n",
       "3        NaN  211.319643         8.106        False  60.090059   \n",
       "4        NaN  211.350143         8.106        False  60.090059   \n",
       "\n",
       "   Unemployment_mean  \n",
       "0           7.960289  \n",
       "1           7.960289  \n",
       "2           7.960289  \n",
       "3           7.960289  \n",
       "4           7.960289  \n",
       "\n",
       "[5 rows x 22 columns]"
      ]
     },
     "execution_count": 55,
     "metadata": {},
     "output_type": "execute_result"
    }
   ],
   "source": [
    "train_with_feature.head()"
   ]
  },
  {
   "cell_type": "markdown",
   "id": "08d914bc",
   "metadata": {},
   "source": [
    "# Merge all the features in a single data frame:\n"
   ]
  },
  {
   "cell_type": "code",
   "execution_count": 57,
   "id": "bff7abc6",
   "metadata": {},
   "outputs": [],
   "source": [
    "#merge all the features\n",
    "train_with_feature_new = pd.merge(train_with_feature,stores_data)\n",
    "test_with_feature_new = pd.merge(test_with_feature,stores_data)"
   ]
  },
  {
   "cell_type": "code",
   "execution_count": 60,
   "id": "6bc94d67",
   "metadata": {},
   "outputs": [
    {
     "data": {
      "text/html": [
       "<div>\n",
       "<style scoped>\n",
       "    .dataframe tbody tr th:only-of-type {\n",
       "        vertical-align: middle;\n",
       "    }\n",
       "\n",
       "    .dataframe tbody tr th {\n",
       "        vertical-align: top;\n",
       "    }\n",
       "\n",
       "    .dataframe thead th {\n",
       "        text-align: right;\n",
       "    }\n",
       "</style>\n",
       "<table border=\"1\" class=\"dataframe\">\n",
       "  <thead>\n",
       "    <tr style=\"text-align: right;\">\n",
       "      <th></th>\n",
       "      <th>Store</th>\n",
       "      <th>Dept</th>\n",
       "      <th>Date</th>\n",
       "      <th>IsHoliday_x</th>\n",
       "      <th>Week</th>\n",
       "      <th>Day_of_week</th>\n",
       "      <th>Month</th>\n",
       "      <th>Year</th>\n",
       "      <th>Day</th>\n",
       "      <th>Temperature</th>\n",
       "      <th>...</th>\n",
       "      <th>MarkDown3</th>\n",
       "      <th>MarkDown4</th>\n",
       "      <th>MarkDown5</th>\n",
       "      <th>CPI</th>\n",
       "      <th>Unemployment</th>\n",
       "      <th>IsHoliday_y</th>\n",
       "      <th>Temp_mean</th>\n",
       "      <th>Unemployment_mean</th>\n",
       "      <th>Type</th>\n",
       "      <th>Size</th>\n",
       "    </tr>\n",
       "  </thead>\n",
       "  <tbody>\n",
       "    <tr>\n",
       "      <th>0</th>\n",
       "      <td>1</td>\n",
       "      <td>1</td>\n",
       "      <td>2012-11-02</td>\n",
       "      <td>False</td>\n",
       "      <td>44</td>\n",
       "      <td>4</td>\n",
       "      <td>11</td>\n",
       "      <td>2012</td>\n",
       "      <td>2</td>\n",
       "      <td>55.32</td>\n",
       "      <td>...</td>\n",
       "      <td>50.82</td>\n",
       "      <td>3639.90</td>\n",
       "      <td>2737.42</td>\n",
       "      <td>223.462779</td>\n",
       "      <td>6.573</td>\n",
       "      <td>False</td>\n",
       "      <td>53.941804</td>\n",
       "      <td>6.868733</td>\n",
       "      <td>A</td>\n",
       "      <td>151315</td>\n",
       "    </tr>\n",
       "    <tr>\n",
       "      <th>1</th>\n",
       "      <td>1</td>\n",
       "      <td>1</td>\n",
       "      <td>2012-11-09</td>\n",
       "      <td>False</td>\n",
       "      <td>45</td>\n",
       "      <td>4</td>\n",
       "      <td>11</td>\n",
       "      <td>2012</td>\n",
       "      <td>9</td>\n",
       "      <td>61.24</td>\n",
       "      <td>...</td>\n",
       "      <td>40.28</td>\n",
       "      <td>4646.79</td>\n",
       "      <td>6154.16</td>\n",
       "      <td>223.481307</td>\n",
       "      <td>6.573</td>\n",
       "      <td>False</td>\n",
       "      <td>53.941804</td>\n",
       "      <td>6.868733</td>\n",
       "      <td>A</td>\n",
       "      <td>151315</td>\n",
       "    </tr>\n",
       "    <tr>\n",
       "      <th>2</th>\n",
       "      <td>1</td>\n",
       "      <td>1</td>\n",
       "      <td>2012-11-16</td>\n",
       "      <td>False</td>\n",
       "      <td>46</td>\n",
       "      <td>4</td>\n",
       "      <td>11</td>\n",
       "      <td>2012</td>\n",
       "      <td>16</td>\n",
       "      <td>52.92</td>\n",
       "      <td>...</td>\n",
       "      <td>103.78</td>\n",
       "      <td>1133.15</td>\n",
       "      <td>6612.69</td>\n",
       "      <td>223.512911</td>\n",
       "      <td>6.573</td>\n",
       "      <td>False</td>\n",
       "      <td>53.941804</td>\n",
       "      <td>6.868733</td>\n",
       "      <td>A</td>\n",
       "      <td>151315</td>\n",
       "    </tr>\n",
       "    <tr>\n",
       "      <th>3</th>\n",
       "      <td>1</td>\n",
       "      <td>1</td>\n",
       "      <td>2012-11-23</td>\n",
       "      <td>True</td>\n",
       "      <td>47</td>\n",
       "      <td>4</td>\n",
       "      <td>11</td>\n",
       "      <td>2012</td>\n",
       "      <td>23</td>\n",
       "      <td>56.23</td>\n",
       "      <td>...</td>\n",
       "      <td>74910.32</td>\n",
       "      <td>209.91</td>\n",
       "      <td>303.32</td>\n",
       "      <td>223.561947</td>\n",
       "      <td>6.573</td>\n",
       "      <td>True</td>\n",
       "      <td>53.941804</td>\n",
       "      <td>6.868733</td>\n",
       "      <td>A</td>\n",
       "      <td>151315</td>\n",
       "    </tr>\n",
       "    <tr>\n",
       "      <th>4</th>\n",
       "      <td>1</td>\n",
       "      <td>1</td>\n",
       "      <td>2012-11-30</td>\n",
       "      <td>False</td>\n",
       "      <td>48</td>\n",
       "      <td>4</td>\n",
       "      <td>11</td>\n",
       "      <td>2012</td>\n",
       "      <td>30</td>\n",
       "      <td>52.34</td>\n",
       "      <td>...</td>\n",
       "      <td>3838.35</td>\n",
       "      <td>150.57</td>\n",
       "      <td>6966.34</td>\n",
       "      <td>223.610984</td>\n",
       "      <td>6.573</td>\n",
       "      <td>False</td>\n",
       "      <td>53.941804</td>\n",
       "      <td>6.868733</td>\n",
       "      <td>A</td>\n",
       "      <td>151315</td>\n",
       "    </tr>\n",
       "  </tbody>\n",
       "</table>\n",
       "<p>5 rows × 23 columns</p>\n",
       "</div>"
      ],
      "text/plain": [
       "   Store  Dept       Date  IsHoliday_x  Week  Day_of_week  Month  Year  Day  \\\n",
       "0      1     1 2012-11-02        False    44            4     11  2012    2   \n",
       "1      1     1 2012-11-09        False    45            4     11  2012    9   \n",
       "2      1     1 2012-11-16        False    46            4     11  2012   16   \n",
       "3      1     1 2012-11-23         True    47            4     11  2012   23   \n",
       "4      1     1 2012-11-30        False    48            4     11  2012   30   \n",
       "\n",
       "   Temperature  ...  MarkDown3  MarkDown4  MarkDown5         CPI  \\\n",
       "0        55.32  ...      50.82    3639.90    2737.42  223.462779   \n",
       "1        61.24  ...      40.28    4646.79    6154.16  223.481307   \n",
       "2        52.92  ...     103.78    1133.15    6612.69  223.512911   \n",
       "3        56.23  ...   74910.32     209.91     303.32  223.561947   \n",
       "4        52.34  ...    3838.35     150.57    6966.34  223.610984   \n",
       "\n",
       "   Unemployment  IsHoliday_y  Temp_mean  Unemployment_mean  Type    Size  \n",
       "0         6.573        False  53.941804           6.868733     A  151315  \n",
       "1         6.573        False  53.941804           6.868733     A  151315  \n",
       "2         6.573        False  53.941804           6.868733     A  151315  \n",
       "3         6.573         True  53.941804           6.868733     A  151315  \n",
       "4         6.573        False  53.941804           6.868733     A  151315  \n",
       "\n",
       "[5 rows x 23 columns]"
      ]
     },
     "execution_count": 60,
     "metadata": {},
     "output_type": "execute_result"
    }
   ],
   "source": [
    "test_with_feature_new.head()"
   ]
  },
  {
   "cell_type": "markdown",
   "id": "5c2e4e4b",
   "metadata": {},
   "source": [
    "As we have “IsHoliday ”feature in each of the datasets, it has been duplicated. So let's make it correct by removing one of them and rename it to the original “IsHoliday” column name."
   ]
  },
  {
   "cell_type": "code",
   "execution_count": 61,
   "id": "49d2576c",
   "metadata": {},
   "outputs": [],
   "source": [
    "#drop the dublicate of IsHoliday column\n",
    "train_with_feature = train_with_feature_new.drop(columns=['IsHoliday_x'])\n",
    "test_with_feature = test_with_feature_new.drop(columns=['IsHoliday_x'])\n",
    "\n",
    "#let's rename the IsHoliday_y column to IsHoliday\n",
    "train_with_feature = train_with_feature.rename(columns={\"IsHoliday_y\": \"IsHoliday\"})\n",
    "test_with_feature = test_with_feature.rename(columns={\"IsHoliday_y\": \"IsHoliday\"})"
   ]
  },
  {
   "cell_type": "markdown",
   "id": "92bbc7e1",
   "metadata": {},
   "source": [
    "We should represent our IsHoliday column in numeric values. So, let's change IsHoliday column with ‘False’ to be 0 and ‘True’ to be 1."
   ]
  },
  {
   "cell_type": "code",
   "execution_count": 66,
   "id": "2e0b7f41",
   "metadata": {},
   "outputs": [],
   "source": [
    "train_with_feature.replace({\"IsHoliday\":{'False':0,'True':1}},inplace=True)"
   ]
  },
  {
   "cell_type": "code",
   "execution_count": 68,
   "id": "ce601983",
   "metadata": {},
   "outputs": [],
   "source": [
    "test_with_feature.replace({\"IsHoliday\":{'False':0,'True':1}},inplace=True)"
   ]
  },
  {
   "cell_type": "markdown",
   "id": "469fd262",
   "metadata": {},
   "source": [
    "Similarly, let's convert ‘Types’ of the store to numeric values."
   ]
  },
  {
   "cell_type": "code",
   "execution_count": 70,
   "id": "fbfcde5a",
   "metadata": {},
   "outputs": [
    {
     "data": {
      "text/plain": [
       "A    58713\n",
       "B    44500\n",
       "C    11851\n",
       "Name: Type, dtype: int64"
      ]
     },
     "execution_count": 70,
     "metadata": {},
     "output_type": "execute_result"
    }
   ],
   "source": [
    "test_with_feature['Type'].value_counts()"
   ]
  },
  {
   "cell_type": "code",
   "execution_count": 74,
   "id": "9805b951",
   "metadata": {},
   "outputs": [],
   "source": [
    "train_with_feature.replace({\"Type\":{'A':1,'B':2,'C':3}},inplace=True)"
   ]
  },
  {
   "cell_type": "code",
   "execution_count": 75,
   "id": "ef2a215b",
   "metadata": {},
   "outputs": [],
   "source": [
    "test_with_feature.replace({\"Type\":{'A':1,'B':2,'C':3}},inplace=True)"
   ]
  },
  {
   "cell_type": "markdown",
   "id": "aa41cbaf",
   "metadata": {},
   "source": [
    "Now let’s check features Correlations\n",
    "\n",
    "Correlation is a bivariate analysis that measures the strength of association between two variables and the direction of the relationship. In terms of the strength of the relationship, the value of the correlation coefficient varies between +1 and -1."
   ]
  },
  {
   "cell_type": "code",
   "execution_count": 79,
   "id": "80ae6512",
   "metadata": {},
   "outputs": [
    {
     "data": {
      "image/png": "[encoded data removed]",
      "text/plain": [
       "<Figure size 432x288 with 2 Axes>"
      ]
     },
     "metadata": {},
     "output_type": "display_data"
    }
   ],
   "source": [
    "dataplot=sns.heatmap(train_with_feature.corr())\n",
    "plt.show()"
   ]
  },
  {
   "cell_type": "markdown",
   "id": "2ffde814",
   "metadata": {},
   "source": [
    "# Fixing Missing Values:\n",
    "Missing Value like in ‘Markdown’, Imputing it with Zero(No Markdown). We can safely fill all missing values with zero."
   ]
  },
  {
   "cell_type": "code",
   "execution_count": 80,
   "id": "d5676aa8",
   "metadata": {},
   "outputs": [],
   "source": [
    "train_with_feature=train_with_feature.fillna(0)\n",
    "test_with_feature=test_with_feature.fillna(0)"
   ]
  },
  {
   "cell_type": "markdown",
   "id": "bcaed449",
   "metadata": {},
   "source": [
    "After a few submissions testing, I got to know that mean of feature is improving the score"
   ]
  },
  {
   "cell_type": "code",
   "execution_count": 82,
   "id": "b3086f18",
   "metadata": {},
   "outputs": [],
   "source": [
    "# so, let's add mean of Fuel and mean of CPI feature\n",
    "#train data\n",
    "train_with_feature['Fuel_Price_mean'] = train_with_feature['Fuel_Price'].mean()\n",
    "train_with_feature['CPI_mean'] = train_with_feature['CPI'].mean()\n",
    "#test data\n",
    "test_with_feature['CPI_mean'] = test_with_feature['CPI'].mean()\n",
    "test_with_feature['Fuel_Price_mean'] = test_with_feature['Fuel_Price'].mean()"
   ]
  },
  {
   "cell_type": "markdown",
   "id": "6d84defb",
   "metadata": {},
   "source": [
    "# Feature Selection:\n",
    "After a few submissions, I got to know that Markdown features are not helping much to improve the score. So, I had to dope them out.\n",
    "\n",
    "And as we have already taken the mean of CPI, Unemployment, Fuel_Price we can drop them aswell. As we saw in the Correlation graph, Day_of_week is not stable, so we also need to drop this feature."
   ]
  },
  {
   "cell_type": "code",
   "execution_count": 84,
   "id": "4c97dfda",
   "metadata": {},
   "outputs": [],
   "source": [
    "features_drop=['CPI','Unemployment','Fuel_Price','Day_of_week','MarkDown1','MarkDown2','MarkDown3','MarkDown4','MarkDown5']\n",
    "train_final=train_with_feature.drop(features_drop, axis=1)\n",
    "test_final=test_with_feature.drop(features_drop, axis=1)"
   ]
  },
  {
   "cell_type": "markdown",
   "id": "60610851",
   "metadata": {},
   "source": [
    "Now we are completely ready to define our final Train and Test data to train our model."
   ]
  },
  {
   "cell_type": "code",
   "execution_count": 91,
   "id": "4d0d781e",
   "metadata": {},
   "outputs": [
    {
     "data": {
      "text/plain": [
       "((421570, 14), (421570,), (115064, 14))"
      ]
     },
     "execution_count": 91,
     "metadata": {},
     "output_type": "execute_result"
    }
   ],
   "source": [
    "#train\n",
    "train_X=train_final.drop(['Weekly_Sales','Date'], axis=1)\n",
    "train_Y=train_final['Weekly_Sales'] \n",
    "\n",
    "#test\n",
    "test_X=test_final.drop('Date',axis=1).copy()\n",
    "train_X.shape, train_y.shape, test_X.shape"
   ]
  },
  {
   "cell_type": "code",
   "execution_count": 89,
   "id": "2b33e21e",
   "metadata": {},
   "outputs": [
    {
     "data": {
      "text/html": [
       "<div>\n",
       "<style scoped>\n",
       "    .dataframe tbody tr th:only-of-type {\n",
       "        vertical-align: middle;\n",
       "    }\n",
       "\n",
       "    .dataframe tbody tr th {\n",
       "        vertical-align: top;\n",
       "    }\n",
       "\n",
       "    .dataframe thead th {\n",
       "        text-align: right;\n",
       "    }\n",
       "</style>\n",
       "<table border=\"1\" class=\"dataframe\">\n",
       "  <thead>\n",
       "    <tr style=\"text-align: right;\">\n",
       "      <th></th>\n",
       "      <th>Store</th>\n",
       "      <th>Dept</th>\n",
       "      <th>Week</th>\n",
       "      <th>Month</th>\n",
       "      <th>Year</th>\n",
       "      <th>Day</th>\n",
       "      <th>Temperature</th>\n",
       "      <th>IsHoliday</th>\n",
       "      <th>Temp_mean</th>\n",
       "      <th>Unemployment_mean</th>\n",
       "      <th>Type</th>\n",
       "      <th>Size</th>\n",
       "      <th>Fuel_Price_mean</th>\n",
       "      <th>CPI_mean</th>\n",
       "    </tr>\n",
       "  </thead>\n",
       "  <tbody>\n",
       "    <tr>\n",
       "      <th>0</th>\n",
       "      <td>1</td>\n",
       "      <td>1</td>\n",
       "      <td>5</td>\n",
       "      <td>2</td>\n",
       "      <td>2010</td>\n",
       "      <td>5</td>\n",
       "      <td>42.31</td>\n",
       "      <td>0</td>\n",
       "      <td>60.090059</td>\n",
       "      <td>7.960289</td>\n",
       "      <td>1</td>\n",
       "      <td>151315</td>\n",
       "      <td>3.361027</td>\n",
       "      <td>171.201947</td>\n",
       "    </tr>\n",
       "    <tr>\n",
       "      <th>1</th>\n",
       "      <td>1</td>\n",
       "      <td>1</td>\n",
       "      <td>6</td>\n",
       "      <td>2</td>\n",
       "      <td>2010</td>\n",
       "      <td>12</td>\n",
       "      <td>38.51</td>\n",
       "      <td>1</td>\n",
       "      <td>60.090059</td>\n",
       "      <td>7.960289</td>\n",
       "      <td>1</td>\n",
       "      <td>151315</td>\n",
       "      <td>3.361027</td>\n",
       "      <td>171.201947</td>\n",
       "    </tr>\n",
       "    <tr>\n",
       "      <th>2</th>\n",
       "      <td>1</td>\n",
       "      <td>1</td>\n",
       "      <td>7</td>\n",
       "      <td>2</td>\n",
       "      <td>2010</td>\n",
       "      <td>19</td>\n",
       "      <td>39.93</td>\n",
       "      <td>0</td>\n",
       "      <td>60.090059</td>\n",
       "      <td>7.960289</td>\n",
       "      <td>1</td>\n",
       "      <td>151315</td>\n",
       "      <td>3.361027</td>\n",
       "      <td>171.201947</td>\n",
       "    </tr>\n",
       "    <tr>\n",
       "      <th>3</th>\n",
       "      <td>1</td>\n",
       "      <td>1</td>\n",
       "      <td>8</td>\n",
       "      <td>2</td>\n",
       "      <td>2010</td>\n",
       "      <td>26</td>\n",
       "      <td>46.63</td>\n",
       "      <td>0</td>\n",
       "      <td>60.090059</td>\n",
       "      <td>7.960289</td>\n",
       "      <td>1</td>\n",
       "      <td>151315</td>\n",
       "      <td>3.361027</td>\n",
       "      <td>171.201947</td>\n",
       "    </tr>\n",
       "    <tr>\n",
       "      <th>4</th>\n",
       "      <td>1</td>\n",
       "      <td>1</td>\n",
       "      <td>9</td>\n",
       "      <td>3</td>\n",
       "      <td>2010</td>\n",
       "      <td>5</td>\n",
       "      <td>46.50</td>\n",
       "      <td>0</td>\n",
       "      <td>60.090059</td>\n",
       "      <td>7.960289</td>\n",
       "      <td>1</td>\n",
       "      <td>151315</td>\n",
       "      <td>3.361027</td>\n",
       "      <td>171.201947</td>\n",
       "    </tr>\n",
       "  </tbody>\n",
       "</table>\n",
       "</div>"
      ],
      "text/plain": [
       "   Store  Dept  Week  Month  Year  Day  Temperature  IsHoliday  Temp_mean  \\\n",
       "0      1     1     5      2  2010    5        42.31          0  60.090059   \n",
       "1      1     1     6      2  2010   12        38.51          1  60.090059   \n",
       "2      1     1     7      2  2010   19        39.93          0  60.090059   \n",
       "3      1     1     8      2  2010   26        46.63          0  60.090059   \n",
       "4      1     1     9      3  2010    5        46.50          0  60.090059   \n",
       "\n",
       "   Unemployment_mean  Type    Size  Fuel_Price_mean    CPI_mean  \n",
       "0           7.960289     1  151315         3.361027  171.201947  \n",
       "1           7.960289     1  151315         3.361027  171.201947  \n",
       "2           7.960289     1  151315         3.361027  171.201947  \n",
       "3           7.960289     1  151315         3.361027  171.201947  \n",
       "4           7.960289     1  151315         3.361027  171.201947  "
      ]
     },
     "execution_count": 89,
     "metadata": {},
     "output_type": "execute_result"
    }
   ],
   "source": [
    "train_X.head()"
   ]
  },
  {
   "cell_type": "code",
   "execution_count": 92,
   "id": "3ed2ded8",
   "metadata": {},
   "outputs": [
    {
     "data": {
      "text/plain": [
       "0    24924.50\n",
       "1    46039.49\n",
       "2    41595.55\n",
       "3    19403.54\n",
       "4    21827.90\n",
       "Name: Weekly_Sales, dtype: float64"
      ]
     },
     "execution_count": 92,
     "metadata": {},
     "output_type": "execute_result"
    }
   ],
   "source": [
    "train_Y.head()"
   ]
  },
  {
   "cell_type": "code",
   "execution_count": 93,
   "id": "b277956a",
   "metadata": {},
   "outputs": [
    {
     "data": {
      "text/html": [
       "<div>\n",
       "<style scoped>\n",
       "    .dataframe tbody tr th:only-of-type {\n",
       "        vertical-align: middle;\n",
       "    }\n",
       "\n",
       "    .dataframe tbody tr th {\n",
       "        vertical-align: top;\n",
       "    }\n",
       "\n",
       "    .dataframe thead th {\n",
       "        text-align: right;\n",
       "    }\n",
       "</style>\n",
       "<table border=\"1\" class=\"dataframe\">\n",
       "  <thead>\n",
       "    <tr style=\"text-align: right;\">\n",
       "      <th></th>\n",
       "      <th>Store</th>\n",
       "      <th>Dept</th>\n",
       "      <th>Week</th>\n",
       "      <th>Month</th>\n",
       "      <th>Year</th>\n",
       "      <th>Day</th>\n",
       "      <th>Temperature</th>\n",
       "      <th>IsHoliday</th>\n",
       "      <th>Temp_mean</th>\n",
       "      <th>Unemployment_mean</th>\n",
       "      <th>Type</th>\n",
       "      <th>Size</th>\n",
       "      <th>CPI_mean</th>\n",
       "      <th>Fuel_Price_mean</th>\n",
       "    </tr>\n",
       "  </thead>\n",
       "  <tbody>\n",
       "    <tr>\n",
       "      <th>0</th>\n",
       "      <td>1</td>\n",
       "      <td>1</td>\n",
       "      <td>44</td>\n",
       "      <td>11</td>\n",
       "      <td>2012</td>\n",
       "      <td>2</td>\n",
       "      <td>55.32</td>\n",
       "      <td>0</td>\n",
       "      <td>53.941804</td>\n",
       "      <td>6.868733</td>\n",
       "      <td>1</td>\n",
       "      <td>151315</td>\n",
       "      <td>118.270541</td>\n",
       "      <td>3.581546</td>\n",
       "    </tr>\n",
       "    <tr>\n",
       "      <th>1</th>\n",
       "      <td>1</td>\n",
       "      <td>1</td>\n",
       "      <td>45</td>\n",
       "      <td>11</td>\n",
       "      <td>2012</td>\n",
       "      <td>9</td>\n",
       "      <td>61.24</td>\n",
       "      <td>1</td>\n",
       "      <td>53.941804</td>\n",
       "      <td>6.868733</td>\n",
       "      <td>1</td>\n",
       "      <td>151315</td>\n",
       "      <td>118.270541</td>\n",
       "      <td>3.581546</td>\n",
       "    </tr>\n",
       "    <tr>\n",
       "      <th>2</th>\n",
       "      <td>1</td>\n",
       "      <td>1</td>\n",
       "      <td>46</td>\n",
       "      <td>11</td>\n",
       "      <td>2012</td>\n",
       "      <td>16</td>\n",
       "      <td>52.92</td>\n",
       "      <td>0</td>\n",
       "      <td>53.941804</td>\n",
       "      <td>6.868733</td>\n",
       "      <td>1</td>\n",
       "      <td>151315</td>\n",
       "      <td>118.270541</td>\n",
       "      <td>3.581546</td>\n",
       "    </tr>\n",
       "    <tr>\n",
       "      <th>3</th>\n",
       "      <td>1</td>\n",
       "      <td>1</td>\n",
       "      <td>47</td>\n",
       "      <td>11</td>\n",
       "      <td>2012</td>\n",
       "      <td>23</td>\n",
       "      <td>56.23</td>\n",
       "      <td>0</td>\n",
       "      <td>53.941804</td>\n",
       "      <td>6.868733</td>\n",
       "      <td>1</td>\n",
       "      <td>151315</td>\n",
       "      <td>118.270541</td>\n",
       "      <td>3.581546</td>\n",
       "    </tr>\n",
       "    <tr>\n",
       "      <th>4</th>\n",
       "      <td>1</td>\n",
       "      <td>1</td>\n",
       "      <td>48</td>\n",
       "      <td>11</td>\n",
       "      <td>2012</td>\n",
       "      <td>30</td>\n",
       "      <td>52.34</td>\n",
       "      <td>0</td>\n",
       "      <td>53.941804</td>\n",
       "      <td>6.868733</td>\n",
       "      <td>1</td>\n",
       "      <td>151315</td>\n",
       "      <td>118.270541</td>\n",
       "      <td>3.581546</td>\n",
       "    </tr>\n",
       "  </tbody>\n",
       "</table>\n",
       "</div>"
      ],
      "text/plain": [
       "   Store  Dept  Week  Month  Year  Day  Temperature  IsHoliday  Temp_mean  \\\n",
       "0      1     1    44     11  2012    2        55.32          0  53.941804   \n",
       "1      1     1    45     11  2012    9        61.24          1  53.941804   \n",
       "2      1     1    46     11  2012   16        52.92          0  53.941804   \n",
       "3      1     1    47     11  2012   23        56.23          0  53.941804   \n",
       "4      1     1    48     11  2012   30        52.34          0  53.941804   \n",
       "\n",
       "   Unemployment_mean  Type    Size    CPI_mean  Fuel_Price_mean  \n",
       "0           6.868733     1  151315  118.270541         3.581546  \n",
       "1           6.868733     1  151315  118.270541         3.581546  \n",
       "2           6.868733     1  151315  118.270541         3.581546  \n",
       "3           6.868733     1  151315  118.270541         3.581546  \n",
       "4           6.868733     1  151315  118.270541         3.581546  "
      ]
     },
     "execution_count": 93,
     "metadata": {},
     "output_type": "execute_result"
    }
   ],
   "source": [
    "test_X.head()"
   ]
  },
  {
   "cell_type": "markdown",
   "id": "7c507d6f",
   "metadata": {},
   "source": [
    "# Machine Learning Models:\n",
    "Model to Predict the Next Year’s Sales\n",
    "\n"
   ]
  },
  {
   "cell_type": "markdown",
   "id": "57179505",
   "metadata": {},
   "source": [
    "Final features that we are using to train our model are as follows:\n",
    "\n",
    "Store — the store number\n",
    "\n",
    "Dept — the department number\n",
    "\n",
    "Week: The week ordinal of the year.\n",
    "\n",
    "Month: The month as January=1, December=12.\n",
    "\n",
    "Year: The year of the DateTime.\n",
    "\n",
    "Day: The days of the DateTime.\n",
    "\n",
    "Temperature: the average temperature in the region\n",
    "\n",
    "IsHoliday: If Holiday = True == 1, else 0\n",
    "\n",
    "Size: the size of the store\n",
    "\n",
    "Types: Types of store, A = 1, B = 2, C = 3\n",
    "\n",
    "Temp_mean: Mean value Temperature\n",
    "\n",
    "Unemployment_mean: Mean value of Unemployment\n",
    "\n",
    "Fuel_Price_mean: Mean value of the cost of fuel in the region\n",
    "\n",
    "CPI_mean: Mean value of CPI_mean\n",
    "\n",
    "Dimensions of the final dataset are not too large, bagged decision trees like Random Forest and Extra Trees can be used to estimate the importance of features."
   ]
  },
  {
   "cell_type": "code",
   "execution_count": 101,
   "id": "fd2230dc",
   "metadata": {},
   "outputs": [
    {
     "name": "stderr",
     "output_type": "stream",
     "text": [
      "C:\\Users\\balaj\\AppData\\Local\\Programs\\Python\\Python39\\lib\\site-packages\\sklearn\\base.py:493: FutureWarning: The feature names should match those that were passed during fit. Starting version 1.2, an error will be raised.\n",
      "Feature names must be in the same order as they were in fit.\n",
      "\n",
      "  warnings.warn(message, FutureWarning)\n"
     ]
    }
   ],
   "source": [
    "clf = RandomForestRegressor(n_estimators=100)\n",
    "clf.fit(train_X, train_Y)\n",
    "y_pred_rf=clf.predict(test_X)\n",
    "acc_rf= round(clf.score(train_X, train_Y) * 100,3)"
   ]
  },
  {
   "cell_type": "markdown",
   "id": "9404d32b",
   "metadata": {},
   "source": [
    "# Prediction using our Random Forest model"
   ]
  },
  {
   "cell_type": "code",
   "execution_count": 104,
   "id": "cb032a81",
   "metadata": {},
   "outputs": [],
   "source": [
    "#https://stackoverflow.com/questions/52411992/how-to-produce-a-kaggle-submission-csv-file-with-specific-entries\n",
    "\n",
    "submission = pd.DataFrame({\n",
    "        \"Id\": test_data.Store.astype(str)+'_'+test_data.Dept.astype(str)+'_'+test_data.Date.astype(str),\n",
    "        \"Weekly_Sales\": y_pred_rf\n",
    "    })\n",
    "\n",
    "submission.to_csv('submission predicted_RF_Final.csv', index=False)"
   ]
  },
  {
   "cell_type": "code",
   "execution_count": null,
   "id": "44f79b44",
   "metadata": {},
   "outputs": [],
   "source": []
  }
 ],
 "metadata": {
  "kernelspec": {
   "display_name": "Python 3 (ipykernel)",
   "language": "python",
   "name": "python3"
  },
  "language_info": {
   "codemirror_mode": {
    "name": "ipython",
    "version": 3
   },
   "file_extension": ".py",
   "mimetype": "text/x-python",
   "name": "python",
   "nbconvert_exporter": "python",
   "pygments_lexer": "ipython3",
   "version": "3.9.9"
  }
 },
 "nbformat": 4,
 "nbformat_minor": 5
}
